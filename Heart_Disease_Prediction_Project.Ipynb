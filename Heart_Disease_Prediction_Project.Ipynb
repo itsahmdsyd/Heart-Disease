{
 "cells": [
  {
   "cell_type": "markdown",
   "metadata": {},
   "source": [
    "> # **Heart Disease Prediction Project**\n",
    "\n",
    "## **Introduction**\n",
    "\n",
    "This project is part of the **Digital Egypt Pioneers Initiative (DEPI)**, a scholarship provided by the Ministry of Information Technology and Communication. Under the guidance of our instructor, **Ahmed Moustafa**, our team—**Ahmed Elsayed**, **Ammar Osama**, **Moustafa Alaa**, and **Mahmoud Mohamed Helmy**—aims to develop a comprehensive analysis and prediction model for heart disease.\n",
    "\n",
    "### **Objective**\n",
    "\n",
    "The primary goal of this project is to leverage data science techniques, including **Exploratory Data Analysis (EDA)** and **Machine Learning (ML)**, to predict the presence of heart disease based on various patient features. By analyzing the dataset, we hope to uncover key insights into which factors contribute most significantly to heart disease, and subsequently build an effective machine learning model to forecast its occurrence.\n",
    "\n",
    "### **Dataset**\n",
    "\n",
    "## Features Description\n",
    "\n",
    "The following are key features in the dataset used to predict heart disease:\n",
    "\n",
    "1. **Age**  \n",
    "   - **Description**: The age of the patient in years.  \n",
    "\n",
    "2. **Sex**  \n",
    "   - **Description**: The gender of the patient.  \n",
    "     - `0` = Male  \n",
    "     - `1` = Female  \n",
    "\n",
    "3. **Chest Pain Type**  \n",
    "   - **Description**: The type of chest pain experienced by the patient.  \n",
    "     - `1` = Typical angina (related to reduced blood supply to the heart)  \n",
    "     - `2` = Atypical angina (chest pain not related to the heart)  \n",
    "     - `3` = Non-anginal pain (chest pain unrelated to the heart)  \n",
    "     - `4` = Asymptomatic (no chest pain)  \n",
    "\n",
    "4. **Resting Blood Pressure (BP)**  \n",
    "   - **Description**: The patient’s resting blood pressure, measured in mm Hg.  \n",
    "\n",
    "5. **Cholesterol Levels**  \n",
    "   - **Description**: The serum cholesterol level of the patient, measured in mg/dL.  \n",
    "\n",
    "6. **Fasting Blood Sugar (FBS > 120)**  \n",
    "   - **Description**: A binary feature that indicates whether the patient's fasting blood sugar is greater than 120 mg/dL.  \n",
    "     - `1` = True (FBS > 120)  \n",
    "     - `0` = False (FBS ≤ 120)  \n",
    "\n",
    "7. **Max Heart Rate (Max HR)**  \n",
    "   - **Description**: The maximum heart rate achieved by the patient during a stress test, measured in beats per minute (bpm).  \n",
    "\n",
    "8. **Exercise-Induced Angina**  \n",
    "   - **Description**: A binary feature indicating whether the patient experiences angina (chest pain) during physical activity.  \n",
    "     - `1` = Yes  \n",
    "     - `0` = No  \n",
    "\n",
    "9. **ST Depression**  \n",
    "   - **Description**: The difference in ST segment elevation between rest and exercise, measured in mm. The ST segment is part of an electrocardiogram (ECG). ST depression during exercise suggests that part of the heart is not getting enough oxygen, a condition known as ischemia, which is a strong indicator of heart disease.\n",
    "\n",
    "\n",
    "\n",
    "> ### **Project Scope**\n",
    "\n",
    "1. **Exploratory Data Analysis (EDA)**:  \n",
    "   - We will start by understanding the dataset, visualizing distributions, and examining relationships between variables.\n",
    "   - Through statistical analysis, we aim to identify key risk factors for heart disease.\n",
    "\n",
    "2. **Machine Learning (ML)**:  \n",
    "   - After EDA, we will develop machine learning models to predict the likelihood of heart disease.\n",
    "   - We will experiment with various classification algorithms, evaluate model performance, and optimize accuracy.\n",
    "\n",
    "This project not only provides a practical application of data science methodologies but also highlights the importance of predictive analytics in healthcare. By using historical patient data, we aim to aid in early detection and prevention of heart disease, potentially contributing to improved healthcare outcomes.\n",
    "\n",
    "> **Let's dive into the analysis!**\n"
   ]
  },
  {
   "cell_type": "markdown",
   "metadata": {},
   "source": [
    "### Importing Libraries"
   ]
  },
  {
   "cell_type": "code",
   "execution_count": 1,
   "metadata": {},
   "outputs": [
    {
     "name": "stderr",
     "output_type": "stream",
     "text": [
      "c:\\Users\\Ahmed Elsayed\\anaconda3\\Lib\\site-packages\\pandas\\core\\arrays\\masked.py:60: UserWarning: Pandas requires version '1.3.6' or newer of 'bottleneck' (version '1.3.5' currently installed).\n",
      "  from pandas.core import (\n"
     ]
    }
   ],
   "source": [
    "import numpy as np\n",
    "import pandas as pd\n",
    "import matplotlib.pyplot as plt\n",
    "import seaborn as sns\n",
    "import plotly.express as px\n"
   ]
  },
  {
   "cell_type": "markdown",
   "metadata": {},
   "source": [
    "#### Loading the data"
   ]
  },
  {
   "cell_type": "code",
   "execution_count": 7,
   "metadata": {},
   "outputs": [],
   "source": [
    "df = pd.read_csv('Heart_Disease_Prediction.csv')"
   ]
  },
  {
   "cell_type": "markdown",
   "metadata": {},
   "source": [
    "#### Explore the data and datatypes"
   ]
  },
  {
   "cell_type": "code",
   "execution_count": 8,
   "metadata": {},
   "outputs": [
    {
     "data": {
      "text/html": [
       "<div>\n",
       "<style scoped>\n",
       "    .dataframe tbody tr th:only-of-type {\n",
       "        vertical-align: middle;\n",
       "    }\n",
       "\n",
       "    .dataframe tbody tr th {\n",
       "        vertical-align: top;\n",
       "    }\n",
       "\n",
       "    .dataframe thead th {\n",
       "        text-align: right;\n",
       "    }\n",
       "</style>\n",
       "<table border=\"1\" class=\"dataframe\">\n",
       "  <thead>\n",
       "    <tr style=\"text-align: right;\">\n",
       "      <th></th>\n",
       "      <th>Age</th>\n",
       "      <th>Sex</th>\n",
       "      <th>Chest pain type</th>\n",
       "      <th>BP</th>\n",
       "      <th>Cholesterol</th>\n",
       "      <th>FBS over 120</th>\n",
       "      <th>EKG results</th>\n",
       "      <th>Max HR</th>\n",
       "      <th>Exercise angina</th>\n",
       "      <th>ST depression</th>\n",
       "      <th>Slope of ST</th>\n",
       "      <th>Number of vessels fluro</th>\n",
       "      <th>Thallium</th>\n",
       "      <th>Heart Disease</th>\n",
       "    </tr>\n",
       "  </thead>\n",
       "  <tbody>\n",
       "    <tr>\n",
       "      <th>98</th>\n",
       "      <td>64</td>\n",
       "      <td>0</td>\n",
       "      <td>3</td>\n",
       "      <td>140</td>\n",
       "      <td>313</td>\n",
       "      <td>0</td>\n",
       "      <td>0</td>\n",
       "      <td>133</td>\n",
       "      <td>0</td>\n",
       "      <td>0.2</td>\n",
       "      <td>1</td>\n",
       "      <td>0</td>\n",
       "      <td>7</td>\n",
       "      <td>Absence</td>\n",
       "    </tr>\n",
       "    <tr>\n",
       "      <th>231</th>\n",
       "      <td>39</td>\n",
       "      <td>1</td>\n",
       "      <td>4</td>\n",
       "      <td>118</td>\n",
       "      <td>219</td>\n",
       "      <td>0</td>\n",
       "      <td>0</td>\n",
       "      <td>140</td>\n",
       "      <td>0</td>\n",
       "      <td>1.2</td>\n",
       "      <td>2</td>\n",
       "      <td>0</td>\n",
       "      <td>7</td>\n",
       "      <td>Presence</td>\n",
       "    </tr>\n",
       "    <tr>\n",
       "      <th>63</th>\n",
       "      <td>60</td>\n",
       "      <td>0</td>\n",
       "      <td>1</td>\n",
       "      <td>150</td>\n",
       "      <td>240</td>\n",
       "      <td>0</td>\n",
       "      <td>0</td>\n",
       "      <td>171</td>\n",
       "      <td>0</td>\n",
       "      <td>0.9</td>\n",
       "      <td>1</td>\n",
       "      <td>0</td>\n",
       "      <td>3</td>\n",
       "      <td>Absence</td>\n",
       "    </tr>\n",
       "    <tr>\n",
       "      <th>237</th>\n",
       "      <td>43</td>\n",
       "      <td>1</td>\n",
       "      <td>4</td>\n",
       "      <td>120</td>\n",
       "      <td>177</td>\n",
       "      <td>0</td>\n",
       "      <td>2</td>\n",
       "      <td>120</td>\n",
       "      <td>1</td>\n",
       "      <td>2.5</td>\n",
       "      <td>2</td>\n",
       "      <td>0</td>\n",
       "      <td>7</td>\n",
       "      <td>Presence</td>\n",
       "    </tr>\n",
       "    <tr>\n",
       "      <th>36</th>\n",
       "      <td>61</td>\n",
       "      <td>1</td>\n",
       "      <td>4</td>\n",
       "      <td>140</td>\n",
       "      <td>207</td>\n",
       "      <td>0</td>\n",
       "      <td>2</td>\n",
       "      <td>138</td>\n",
       "      <td>1</td>\n",
       "      <td>1.9</td>\n",
       "      <td>1</td>\n",
       "      <td>1</td>\n",
       "      <td>7</td>\n",
       "      <td>Presence</td>\n",
       "    </tr>\n",
       "  </tbody>\n",
       "</table>\n",
       "</div>"
      ],
      "text/plain": [
       "     Age  Sex  Chest pain type   BP  Cholesterol  FBS over 120  EKG results  \\\n",
       "98    64    0                3  140          313             0            0   \n",
       "231   39    1                4  118          219             0            0   \n",
       "63    60    0                1  150          240             0            0   \n",
       "237   43    1                4  120          177             0            2   \n",
       "36    61    1                4  140          207             0            2   \n",
       "\n",
       "     Max HR  Exercise angina  ST depression  Slope of ST  \\\n",
       "98      133                0            0.2            1   \n",
       "231     140                0            1.2            2   \n",
       "63      171                0            0.9            1   \n",
       "237     120                1            2.5            2   \n",
       "36      138                1            1.9            1   \n",
       "\n",
       "     Number of vessels fluro  Thallium Heart Disease  \n",
       "98                         0         7       Absence  \n",
       "231                        0         7      Presence  \n",
       "63                         0         3       Absence  \n",
       "237                        0         7      Presence  \n",
       "36                         1         7      Presence  "
      ]
     },
     "execution_count": 8,
     "metadata": {},
     "output_type": "execute_result"
    }
   ],
   "source": [
    "df.sample(5)"
   ]
  },
  {
   "cell_type": "code",
   "execution_count": 9,
   "metadata": {},
   "outputs": [
    {
     "name": "stdout",
     "output_type": "stream",
     "text": [
      "<class 'pandas.core.frame.DataFrame'>\n",
      "RangeIndex: 270 entries, 0 to 269\n",
      "Data columns (total 14 columns):\n",
      " #   Column                   Non-Null Count  Dtype  \n",
      "---  ------                   --------------  -----  \n",
      " 0   Age                      270 non-null    int64  \n",
      " 1   Sex                      270 non-null    int64  \n",
      " 2   Chest pain type          270 non-null    int64  \n",
      " 3   BP                       270 non-null    int64  \n",
      " 4   Cholesterol              270 non-null    int64  \n",
      " 5   FBS over 120             270 non-null    int64  \n",
      " 6   EKG results              270 non-null    int64  \n",
      " 7   Max HR                   270 non-null    int64  \n",
      " 8   Exercise angina          270 non-null    int64  \n",
      " 9   ST depression            270 non-null    float64\n",
      " 10  Slope of ST              270 non-null    int64  \n",
      " 11  Number of vessels fluro  270 non-null    int64  \n",
      " 12  Thallium                 270 non-null    int64  \n",
      " 13  Heart Disease            270 non-null    object \n",
      "dtypes: float64(1), int64(12), object(1)\n",
      "memory usage: 29.7+ KB\n"
     ]
    }
   ],
   "source": [
    "df.info()"
   ]
  },
  {
   "cell_type": "markdown",
   "metadata": {},
   "source": [
    "> no missing values "
   ]
  },
  {
   "cell_type": "code",
   "execution_count": null,
   "metadata": {},
   "outputs": [],
   "source": []
  }
 ],
 "metadata": {
  "kernelspec": {
   "display_name": "base",
   "language": "python",
   "name": "python3"
  },
  "language_info": {
   "codemirror_mode": {
    "name": "ipython",
    "version": 3
   },
   "file_extension": ".py",
   "mimetype": "text/x-python",
   "name": "python",
   "nbconvert_exporter": "python",
   "pygments_lexer": "ipython3",
   "version": "3.11.5"
  }
 },
 "nbformat": 4,
 "nbformat_minor": 2
}
